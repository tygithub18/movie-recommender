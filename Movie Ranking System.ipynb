{
 "cells": [
  {
   "cell_type": "code",
   "execution_count": 1,
   "metadata": {},
   "outputs": [
    {
     "data": {
      "text/plain": [
       "'This is a movie recommendation system.\\nhttps://acodeforthought.wordpress.com/2016/12/26/building-a-simple-recommender-system-with-movie-lens-data-set/\\nIt uses MovieLens data.\\n\\n6/10/19\\nThis is more like a movie rating system, not recommendation.\\n'"
      ]
     },
     "execution_count": 1,
     "metadata": {},
     "output_type": "execute_result"
    }
   ],
   "source": [
    "'''This is a movie recommendation system.\n",
    "https://acodeforthought.wordpress.com/2016/12/26/building-a-simple-recommender-system-with-movie-lens-data-set/\n",
    "It uses MovieLens data.\n",
    "\n",
    "6/10/19\n",
    "This is more like a movie rating system, not recommendation.\n",
    "'''"
   ]
  },
  {
   "cell_type": "code",
   "execution_count": null,
   "metadata": {},
   "outputs": [],
   "source": [
    "import pandas as pd\n",
    "import numpy as np\n",
    "import matplotlib.pyplot as plt\n",
    "\n",
    "#column headers for the dataset\n",
    "data_cols = ['user id','movie id','rating','timestamp']\n",
    "item_cols = ['movie id','movie title','release date',\n",
    "'video release date','IMDb URL','unknown','Action',\n",
    "'Adventure','Animation','Childrens','Comedy','Crime',\n",
    "'Documentary','Drama','Fantasy','Film-Noir','Horror',\n",
    "'Musical','Mystery','Romance ','Sci-Fi','Thriller',\n",
    "'War' ,'Western']\n",
    "user_cols = ['user id','age','gender','occupation',\n",
    "'zip code']\n",
    "\n",
    "#importing the data files onto dataframes\n",
    "users = pd.read_csv('Desktop/ml-100k/u.user', sep='|',\n",
    "names=user_cols, encoding='latin-1')\n",
    "item = pd.read_csv('Desktop/ml-100k/u.item', sep='|',\n",
    "names=item_cols, encoding='latin-1')\n",
    "data = pd.read_csv('Desktop/ml-100k/u.data', sep='\\t',\n",
    "names=data_cols, encoding='latin-1')"
   ]
  },
  {
   "cell_type": "code",
   "execution_count": 3,
   "metadata": {
    "scrolled": true
   },
   "outputs": [
    {
     "name": "stdout",
     "output_type": "stream",
     "text": [
      "   user id  age gender  occupation zip code\n",
      "0        1   24      M  technician    85711\n",
      "1        2   53      F       other    94043\n",
      "2        3   23      M      writer    32067\n",
      "3        4   24      M  technician    43537\n",
      "4        5   33      F       other    15213\n"
     ]
    }
   ],
   "source": [
    "#printing the head of these dataframes\n",
    "print(users.head())"
   ]
  },
  {
   "cell_type": "code",
   "execution_count": 4,
   "metadata": {},
   "outputs": [
    {
     "name": "stdout",
     "output_type": "stream",
     "text": [
      "   movie id        movie title release date  video release date  \\\n",
      "0         1   Toy Story (1995)  01-Jan-1995                 NaN   \n",
      "1         2   GoldenEye (1995)  01-Jan-1995                 NaN   \n",
      "2         3  Four Rooms (1995)  01-Jan-1995                 NaN   \n",
      "3         4  Get Shorty (1995)  01-Jan-1995                 NaN   \n",
      "4         5     Copycat (1995)  01-Jan-1995                 NaN   \n",
      "\n",
      "                                            IMDb URL  unknown  Action  \\\n",
      "0  http://us.imdb.com/M/title-exact?Toy%20Story%2...        0       0   \n",
      "1  http://us.imdb.com/M/title-exact?GoldenEye%20(...        0       1   \n",
      "2  http://us.imdb.com/M/title-exact?Four%20Rooms%...        0       0   \n",
      "3  http://us.imdb.com/M/title-exact?Get%20Shorty%...        0       1   \n",
      "4  http://us.imdb.com/M/title-exact?Copycat%20(1995)        0       0   \n",
      "\n",
      "   Adventure  Animation  Childrens   ...     Fantasy  Film-Noir  Horror  \\\n",
      "0          0          1          1   ...           0          0       0   \n",
      "1          1          0          0   ...           0          0       0   \n",
      "2          0          0          0   ...           0          0       0   \n",
      "3          0          0          0   ...           0          0       0   \n",
      "4          0          0          0   ...           0          0       0   \n",
      "\n",
      "   Musical  Mystery  Romance   Sci-Fi  Thriller  War  Western  \n",
      "0        0        0         0       0         0    0        0  \n",
      "1        0        0         0       0         1    0        0  \n",
      "2        0        0         0       0         1    0        0  \n",
      "3        0        0         0       0         0    0        0  \n",
      "4        0        0         0       0         1    0        0  \n",
      "\n",
      "[5 rows x 24 columns]\n"
     ]
    }
   ],
   "source": [
    "print(item.head())"
   ]
  },
  {
   "cell_type": "code",
   "execution_count": 5,
   "metadata": {},
   "outputs": [
    {
     "name": "stdout",
     "output_type": "stream",
     "text": [
      "   user id  movie id  rating  timestamp\n",
      "0      196       242       3  881250949\n",
      "1      186       302       3  891717742\n",
      "2       22       377       1  878887116\n",
      "3      244        51       2  880606923\n",
      "4      166       346       1  886397596\n"
     ]
    }
   ],
   "source": [
    "print(data.head())"
   ]
  },
  {
   "cell_type": "code",
   "execution_count": 6,
   "metadata": {},
   "outputs": [
    {
     "name": "stdout",
     "output_type": "stream",
     "text": [
      "<class 'pandas.core.frame.DataFrame'>\n",
      "RangeIndex: 943 entries, 0 to 942\n",
      "Data columns (total 5 columns):\n",
      "user id       943 non-null int64\n",
      "age           943 non-null int64\n",
      "gender        943 non-null object\n",
      "occupation    943 non-null object\n",
      "zip code      943 non-null object\n",
      "dtypes: int64(2), object(3)\n",
      "memory usage: 36.9+ KB\n",
      "None\n"
     ]
    }
   ],
   "source": [
    "print(users.info())"
   ]
  },
  {
   "cell_type": "code",
   "execution_count": 7,
   "metadata": {},
   "outputs": [
    {
     "name": "stdout",
     "output_type": "stream",
     "text": [
      "<class 'pandas.core.frame.DataFrame'>\n",
      "RangeIndex: 1682 entries, 0 to 1681\n",
      "Data columns (total 24 columns):\n",
      "movie id              1682 non-null int64\n",
      "movie title           1682 non-null object\n",
      "release date          1681 non-null object\n",
      "video release date    0 non-null float64\n",
      "IMDb URL              1679 non-null object\n",
      "unknown               1682 non-null int64\n",
      "Action                1682 non-null int64\n",
      "Adventure             1682 non-null int64\n",
      "Animation             1682 non-null int64\n",
      "Childrens             1682 non-null int64\n",
      "Comedy                1682 non-null int64\n",
      "Crime                 1682 non-null int64\n",
      "Documentary           1682 non-null int64\n",
      "Drama                 1682 non-null int64\n",
      "Fantasy               1682 non-null int64\n",
      "Film-Noir             1682 non-null int64\n",
      "Horror                1682 non-null int64\n",
      "Musical               1682 non-null int64\n",
      "Mystery               1682 non-null int64\n",
      "Romance               1682 non-null int64\n",
      "Sci-Fi                1682 non-null int64\n",
      "Thriller              1682 non-null int64\n",
      "War                   1682 non-null int64\n",
      "Western               1682 non-null int64\n",
      "dtypes: float64(1), int64(20), object(3)\n",
      "memory usage: 315.5+ KB\n",
      "None\n"
     ]
    }
   ],
   "source": [
    "print(item.info())"
   ]
  },
  {
   "cell_type": "code",
   "execution_count": 8,
   "metadata": {},
   "outputs": [
    {
     "name": "stdout",
     "output_type": "stream",
     "text": [
      "<class 'pandas.core.frame.DataFrame'>\n",
      "RangeIndex: 100000 entries, 0 to 99999\n",
      "Data columns (total 4 columns):\n",
      "user id      100000 non-null int64\n",
      "movie id     100000 non-null int64\n",
      "rating       100000 non-null int64\n",
      "timestamp    100000 non-null int64\n",
      "dtypes: int64(4)\n",
      "memory usage: 3.1 MB\n",
      "None\n"
     ]
    }
   ],
   "source": [
    "print(data.info())"
   ]
  },
  {
   "cell_type": "code",
   "execution_count": 9,
   "metadata": {},
   "outputs": [
    {
     "name": "stdout",
     "output_type": "stream",
     "text": [
      "   movie id            movie title release date  video release date  \\\n",
      "0         1       Toy Story (1995)  01-Jan-1995                 NaN   \n",
      "1         4      Get Shorty (1995)  01-Jan-1995                 NaN   \n",
      "2         5         Copycat (1995)  01-Jan-1995                 NaN   \n",
      "3         7  Twelve Monkeys (1995)  01-Jan-1995                 NaN   \n",
      "4         8            Babe (1995)  01-Jan-1995                 NaN   \n",
      "\n",
      "                                            IMDb URL  unknown  Action  \\\n",
      "0  http://us.imdb.com/M/title-exact?Toy%20Story%2...        0       0   \n",
      "1  http://us.imdb.com/M/title-exact?Get%20Shorty%...        0       1   \n",
      "2  http://us.imdb.com/M/title-exact?Copycat%20(1995)        0       0   \n",
      "3  http://us.imdb.com/M/title-exact?Twelve%20Monk...        0       0   \n",
      "4     http://us.imdb.com/M/title-exact?Babe%20(1995)        0       0   \n",
      "\n",
      "   Adventure  Animation  Childrens    ...     Thriller  War  Western  user id  \\\n",
      "0          0          1          1    ...            0    0        0      308   \n",
      "1          0          0          0    ...            0    0        0      308   \n",
      "2          0          0          0    ...            1    0        0      308   \n",
      "3          0          0          0    ...            0    0        0      308   \n",
      "4          0          0          1    ...            0    0        0      308   \n",
      "\n",
      "   rating  timestamp  age  gender  occupation  zip code  \n",
      "0       4  887736532   60       M     retired     95076  \n",
      "1       5  887737890   60       M     retired     95076  \n",
      "2       4  887739608   60       M     retired     95076  \n",
      "3       4  887738847   60       M     retired     95076  \n",
      "4       5  887736696   60       M     retired     95076  \n",
      "\n",
      "[5 rows x 31 columns]\n"
     ]
    }
   ],
   "source": [
    "#Create one data frame from the three\n",
    "dataset = pd.merge(pd.merge(item, data),users)\n",
    "print(dataset.head())"
   ]
  },
  {
   "cell_type": "code",
   "execution_count": 10,
   "metadata": {},
   "outputs": [
    {
     "name": "stdout",
     "output_type": "stream",
     "text": [
      "movie title\n",
      "'Til There Was You (1997)      9\n",
      "1-900 (1994)                   5\n",
      "101 Dalmatians (1996)        109\n",
      "12 Angry Men (1957)          125\n",
      "187 (1997)                    41\n",
      "dtype: int64\n"
     ]
    }
   ],
   "source": [
    "ratings_total = dataset.groupby('movie title').size()\n",
    "print(ratings_total.head())"
   ]
  },
  {
   "cell_type": "code",
   "execution_count": 11,
   "metadata": {},
   "outputs": [
    {
     "name": "stdout",
     "output_type": "stream",
     "text": [
      "                             rating\n",
      "movie title                        \n",
      "'Til There Was You (1997)  2.333333\n",
      "1-900 (1994)               2.600000\n",
      "101 Dalmatians (1996)      2.908257\n",
      "12 Angry Men (1957)        4.344000\n",
      "187 (1997)                 3.024390\n"
     ]
    }
   ],
   "source": [
    "ratings_mean = (dataset.groupby('movie title'))['movie title','rating'].mean()\n",
    "print(ratings_mean.head())"
   ]
  },
  {
   "cell_type": "code",
   "execution_count": 12,
   "metadata": {},
   "outputs": [],
   "source": [
    "#modify the dataframes so that we can merge the two\n",
    "ratings_total = pd.DataFrame({'movie title':ratings_total.index,\n",
    "'total ratings': ratings_total.values})\n",
    "ratings_mean['movie title'] = ratings_mean.index"
   ]
  },
  {
   "cell_type": "code",
   "execution_count": 14,
   "metadata": {},
   "outputs": [
    {
     "name": "stdout",
     "output_type": "stream",
     "text": [
      "        rating                movie title  total ratings\n",
      "1398  4.358491           Star Wars (1977)            583\n",
      "333   3.803536             Contact (1997)            509\n",
      "498   4.155512               Fargo (1996)            508\n",
      "1234  4.007890  Return of the Jedi (1983)            507\n",
      "860   3.156701           Liar Liar (1997)            485\n"
     ]
    }
   ],
   "source": [
    "final = pd.merge(ratings_mean, ratings_total).sort_values(by = 'total ratings',\n",
    "ascending= False)\n",
    "print(final.head())"
   ]
  },
  {
   "cell_type": "code",
   "execution_count": 15,
   "metadata": {},
   "outputs": [
    {
     "name": "stdout",
     "output_type": "stream",
     "text": [
      "            rating  total ratings\n",
      "count  1664.000000    1664.000000\n",
      "mean      3.077018      60.096154\n",
      "std       0.780418      80.956484\n",
      "min       1.000000       1.000000\n",
      "25%       2.665094       7.000000\n",
      "50%       3.162132      27.000000\n",
      "75%       3.651808      80.250000\n",
      "max       5.000000     583.000000\n"
     ]
    }
   ],
   "source": [
    "print(final.describe())"
   ]
  },
  {
   "cell_type": "code",
   "execution_count": 16,
   "metadata": {},
   "outputs": [
    {
     "name": "stdout",
     "output_type": "stream",
     "text": [
      "        rating                       movie title  total ratings\n",
      "1281  4.466443           Schindler's List (1993)            298\n",
      "1652  4.466102        Wrong Trousers, The (1993)            118\n",
      "273   4.456790                 Casablanca (1942)            243\n",
      "1317  4.445230  Shawshank Redemption, The (1994)            283\n",
      "1215  4.387560                Rear Window (1954)            209\n"
     ]
    }
   ],
   "source": [
    "final = final[:300].sort_values(by = 'rating',\n",
    "ascending = False)\n",
    "print(final.head())"
   ]
  },
  {
   "cell_type": "code",
   "execution_count": 18,
   "metadata": {
    "scrolled": false
   },
   "outputs": [
    {
     "name": "stdout",
     "output_type": "stream",
     "text": [
      "        rating                                        movie title  \\\n",
      "1281  4.466443                            Schindler's List (1993)   \n",
      "1652  4.466102                         Wrong Trousers, The (1993)   \n",
      "273   4.456790                                  Casablanca (1942)   \n",
      "1317  4.445230                   Shawshank Redemption, The (1994)   \n",
      "1215  4.387560                                 Rear Window (1954)   \n",
      "1572  4.385768                         Usual Suspects, The (1995)   \n",
      "1398  4.358491                                   Star Wars (1977)   \n",
      "3     4.344000                                12 Angry Men (1957)   \n",
      "303   4.292929                                Citizen Kane (1941)   \n",
      "1507  4.292237                       To Kill a Mockingbird (1962)   \n",
      "1102  4.291667             One Flew Over the Cuckoo's Nest (1975)   \n",
      "1329  4.289744                   Silence of the Lambs, The (1991)   \n",
      "1077  4.284916                          North by Northwest (1959)   \n",
      "612   4.283293                              Godfather, The (1972)   \n",
      "1295  4.265432                              Secrets & Lies (1996)   \n",
      "621   4.262626                           Good Will Hunting (1997)   \n",
      "936   4.259542                   Manchurian Candidate, The (1962)   \n",
      "433   4.252577  Dr. Strangelove or: How I Learned to Stop Worr...   \n",
      "1205  4.252381                     Raiders of the Lost Ark (1981)   \n",
      "1580  4.251397                                     Vertigo (1958)   \n",
      "1500  4.245714                                     Titanic (1997)   \n",
      "851   4.231214                          Lawrence of Arabia (1962)   \n",
      "926   4.210145                         Maltese Falcon, The (1941)   \n",
      "456   4.204360                    Empire Strikes Back, The (1980)   \n",
      "209   4.203980                                   Boot, Das (1981)   \n",
      "1342  4.198529                                 Sling Blade (1996)   \n",
      "613   4.186603                     Godfather: Part II, The (1974)   \n",
      "27    4.184211                          African Queen, The (1951)   \n",
      "232   4.175758               Bridge on the River Kwai, The (1957)   \n",
      "301   4.173554                             Cinema Paradiso (1988)   \n",
      "...        ...                                                ...   \n",
      "770   3.126984                   James and the Giant Peach (1996)   \n",
      "1274  3.123418                                  Saint, The (1997)   \n",
      "1390  3.111111         Star Trek III: The Search for Spock (1984)   \n",
      "411   3.108333                            Devil's Own, The (1997)   \n",
      "43    3.096774                         Alien: Resurrection (1997)   \n",
      "690   3.087591                                  Home Alone (1990)   \n",
      "1020  3.087156                              Murder at 1600 (1997)   \n",
      "435   3.082278                                 Dragonheart (1996)   \n",
      "644   3.040541                            Grumpier Old Men (1995)   \n",
      "1396  3.034188               Star Trek: The Motion Picture (1979)   \n",
      "235   3.031496                                Broken Arrow (1996)   \n",
      "527   3.018750                       First Wives Club, The (1996)   \n",
      "1048  3.008333                                    Net, The (1995)   \n",
      "476   2.980695                                       Evita (1996)   \n",
      "1043  2.953125                        Natural Born Killers (1994)   \n",
      "891   2.943038              Lost World: Jurassic Park, The (1997)   \n",
      "378   2.933333                                Dante's Peak (1997)   \n",
      "1085  2.914110                        Nutty Professor, The (1996)   \n",
      "505   2.898438                 Father of the Bride Part II (1995)   \n",
      "945   2.847926                               Mars Attacks! (1996)   \n",
      "1018  2.835821                                Multiplicity (1996)   \n",
      "1588  2.808219                                     Volcano (1997)   \n",
      "143   2.788462             Beavis and Butt-head Do America (1996)   \n",
      "587   2.685185                        George of the Jungle (1997)   \n",
      "134   2.683099                              Batman Returns (1992)   \n",
      "133   2.666667                              Batman Forever (1995)   \n",
      "1369  2.615385                                       Spawn (1997)   \n",
      "471   2.574803                               Event Horizon (1997)   \n",
      "348   2.546875                                       Crash (1996)   \n",
      "794   2.439394                               Jungle2Jungle (1997)   \n",
      "\n",
      "      total ratings  \n",
      "1281            298  \n",
      "1652            118  \n",
      "273             243  \n",
      "1317            283  \n",
      "1215            209  \n",
      "1572            267  \n",
      "1398            583  \n",
      "3               125  \n",
      "303             198  \n",
      "1507            219  \n",
      "1102            264  \n",
      "1329            390  \n",
      "1077            179  \n",
      "612             413  \n",
      "1295            162  \n",
      "621             198  \n",
      "936             131  \n",
      "433             194  \n",
      "1205            420  \n",
      "1580            179  \n",
      "1500            350  \n",
      "851             173  \n",
      "926             138  \n",
      "456             367  \n",
      "209             201  \n",
      "1342            136  \n",
      "613             209  \n",
      "27              152  \n",
      "232             165  \n",
      "301             121  \n",
      "...             ...  \n",
      "770             126  \n",
      "1274            316  \n",
      "1390            171  \n",
      "411             240  \n",
      "43              124  \n",
      "690             137  \n",
      "1020            218  \n",
      "435             158  \n",
      "644             148  \n",
      "1396            117  \n",
      "235             254  \n",
      "527             160  \n",
      "1048            120  \n",
      "476             259  \n",
      "1043            128  \n",
      "891             158  \n",
      "378             240  \n",
      "1085            163  \n",
      "505             128  \n",
      "945             217  \n",
      "1018            134  \n",
      "1588            219  \n",
      "143             156  \n",
      "587             162  \n",
      "134             142  \n",
      "133             114  \n",
      "1369            143  \n",
      "471             127  \n",
      "348             128  \n",
      "794             132  \n",
      "\n",
      "[300 rows x 3 columns]\n"
     ]
    }
   ],
   "source": [
    "print(final)"
   ]
  },
  {
   "cell_type": "code",
   "execution_count": 17,
   "metadata": {},
   "outputs": [
    {
     "name": "stdout",
     "output_type": "stream",
     "text": [
      "The end\n"
     ]
    }
   ],
   "source": [
    "print('The end')"
   ]
  }
 ],
 "metadata": {
  "kernelspec": {
   "display_name": "Python 3",
   "language": "python",
   "name": "python3"
  },
  "language_info": {
   "codemirror_mode": {
    "name": "ipython",
    "version": 3
   },
   "file_extension": ".py",
   "mimetype": "text/x-python",
   "name": "python",
   "nbconvert_exporter": "python",
   "pygments_lexer": "ipython3",
   "version": "3.7.3"
  }
 },
 "nbformat": 4,
 "nbformat_minor": 2
}
